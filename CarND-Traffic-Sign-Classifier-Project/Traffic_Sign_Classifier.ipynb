{
 "cells": [
  {
   "cell_type": "markdown",
   "metadata": {},
   "source": [
    "# Self-Driving Car Engineer Nanodegree\n",
    "\n",
    "## Deep Learning\n",
    "\n",
    "## Project: Build a Traffic Sign Recognition Classifier\n",
    "\n",
    "In this notebook, a template is provided for you to implement your functionality in stages, which is required to successfully complete this project. If additional code is required that cannot be included in the notebook, be sure that the Python code is successfully imported and included in your submission if necessary. \n",
    "\n",
    "> **Note**: Once you have completed all of the code implementations, you need to finalize your work by exporting the iPython Notebook as an HTML document. Before exporting the notebook to html, all of the code cells need to have been run so that reviewers can see the final implementation and output. You can then export the notebook by using the menu above and navigating to  \\n\",\n",
    "    \"**File -> Download as -> HTML (.html)**. Include the finished document along with this notebook as your submission. \n",
    "\n",
    "In addition to implementing code, there is a writeup to complete. The writeup should be completed in a separate file, which can be either a markdown file or a pdf document. There is a [write up template](https://github.com/udacity/CarND-Traffic-Sign-Classifier-Project/blob/master/writeup_template.md) that can be used to guide the writing process. Completing the code template and writeup template will cover all of the [rubric points](https://review.udacity.com/#!/rubrics/481/view) for this project.\n",
    "\n",
    "The [rubric](https://review.udacity.com/#!/rubrics/481/view) contains \"Stand Out Suggestions\" for enhancing the project beyond the minimum requirements. The stand out suggestions are optional. If you decide to pursue the \"stand out suggestions\", you can include the code in this Ipython notebook and also discuss the results in the writeup file.\n",
    "\n",
    "\n",
    ">**Note:** Code and Markdown cells can be executed using the **Shift + Enter** keyboard shortcut. In addition, Markdown cells can be edited by typically double-clicking the cell to enter edit mode."
   ]
  },
  {
   "cell_type": "markdown",
   "metadata": {},
   "source": [
    "---\n",
    "## Step 0: Load The Data"
   ]
  },
  {
   "cell_type": "code",
   "execution_count": null,
   "metadata": {},
   "outputs": [],
   "source": [
    "# Load dependencies\n",
    "import matplotlib.pyplot as plt\n",
    "import matplotlib.image as mpimg\n",
    "import numpy as np\n",
    "import cv2 as cv\n",
    "import pickle\n",
    "import time\n",
    "from sklearn.utils import shuffle\n",
    "from Utils.Perturb_Functions import *\n",
    "%load_ext autoreload\n",
    "%autoreload 2"
   ]
  },
  {
   "cell_type": "code",
   "execution_count": null,
   "metadata": {},
   "outputs": [],
   "source": [
    "# Load pickled data\n",
    "# TODO: Fill this in based on where you saved the training and testing data\n",
    "# NB This repository does NOT contain either the regular data or the augmented data.\n",
    "# Download/create these yourself and put them in the correct directory.\n",
    "\n",
    "training_file =  './Data/train.p'\n",
    "validation_file= './Data/valid.p'\n",
    "testing_file =   './Data/test.p'\n",
    "\n",
    "with open(training_file, mode='rb') as f:\n",
    "    train = pickle.load(f)\n",
    "with open(validation_file, mode='rb') as f:\n",
    "    valid = pickle.load(f)\n",
    "with open(testing_file, mode='rb') as f:\n",
    "    test = pickle.load(f)\n",
    "    \n",
    "X_train, y_train = train['features'], train['labels']\n",
    "X_valid, y_valid = valid['features'], valid['labels']\n",
    "X_test, y_test = test['features'], test['labels']"
   ]
  },
  {
   "cell_type": "markdown",
   "metadata": {},
   "source": [
    "---\n",
    "\n",
    "## Step 1: Dataset Summary & Exploration\n",
    "\n",
    "The pickled data is a dictionary with 4 key/value pairs:\n",
    "\n",
    "- `'features'` is a 4D array containing raw pixel data of the traffic sign images, (num examples, width, height, channels).\n",
    "- `'labels'` is a 1D array containing the label/class id of the traffic sign. The file `signnames.csv` contains id -> name mappings for each id.\n",
    "- `'sizes'` is a list containing tuples, (width, height) representing the original width and height of the image.\n",
    "- `'coords'` is a list containing tuples, (x1, y1, x2, y2) representing coordinates of a bounding box around the sign in the image. **THESE COORDINATES ASSUME THE ORIGINAL IMAGE. THE PICKLED DATA CONTAINS RESIZED VERSIONS (32 by 32) OF THESE IMAGES**\n",
    "\n",
    "Complete the basic data summary below. Use python, numpy and/or pandas methods to calculate the data summary rather than hard coding the results. For example, the [pandas shape method](http://pandas.pydata.org/pandas-docs/stable/generated/pandas.DataFrame.shape.html) might be useful for calculating some of the summary results. "
   ]
  },
  {
   "cell_type": "markdown",
   "metadata": {},
   "source": [
    "### Provide a Basic Summary of the Data Set Using Python, Numpy and/or Pandas"
   ]
  },
  {
   "cell_type": "code",
   "execution_count": null,
   "metadata": {},
   "outputs": [],
   "source": [
    "### Replace each question mark with the appropriate value. \n",
    "### Use python, pandas or numpy methods rather than hard coding the results\n",
    "\n",
    "# TODO: Number of training examples\n",
    "n_train = X_train.shape[0]\n",
    "\n",
    "# TODO: Number of validation examples\n",
    "n_validation = X_valid.shape[0]\n",
    "\n",
    "# TODO: Number of testing examples.\n",
    "n_test = X_test.shape[0]\n",
    "\n",
    "# TODO: What's the shape of a traffic sign image?\n",
    "image_shape = X_train.shape[1:3]\n",
    "H, W        = image_shape\n",
    "\n",
    "# TODO: How many unique classes/labels there are in the dataset.\n",
    "n_classes = len(np.unique(np.concatenate((y_train, y_valid, y_test))))\n",
    "\n",
    "print(\"Number of training examples =\", n_train)\n",
    "print(\"Number of validation examples =\", n_validation)\n",
    "print(\"Number of testing examples =\", n_test)\n",
    "print(\"Image data shape =\", image_shape)\n",
    "print(\"Number of classes =\", n_classes)"
   ]
  },
  {
   "cell_type": "markdown",
   "metadata": {},
   "source": [
    "### Include an exploratory visualization of the dataset"
   ]
  },
  {
   "cell_type": "markdown",
   "metadata": {},
   "source": [
    "Visualize the German Traffic Signs Dataset using the pickled file(s). This is open ended, suggestions include: plotting traffic sign images, plotting the count of each sign, etc. \n",
    "\n",
    "The [Matplotlib](http://matplotlib.org/) [examples](http://matplotlib.org/examples/index.html) and [gallery](http://matplotlib.org/gallery.html) pages are a great resource for doing visualizations in Python.\n",
    "\n",
    "**NOTE:** It's recommended you start with something simple first. If you wish to do more, come back to it after you've completed the rest of the sections. It can be interesting to look at the distribution of classes in the training, validation and test set. Is the distribution the same? Are there more examples of some classes than others?"
   ]
  },
  {
   "cell_type": "code",
   "execution_count": null,
   "metadata": {
    "scrolled": true
   },
   "outputs": [],
   "source": [
    "### Data exploration visualization code goes here.\n",
    "### Feel free to use as many code cells as needed.\n",
    "# Visualizations will be shown in the notebook.\n",
    "%matplotlib inline\n",
    "\n",
    "# include a library with traffic sign ClassID -> SignName mappings \n",
    "import csv\n",
    "sign_dict = {}\n",
    "with open('signnames.csv', 'r') as csvfile:\n",
    "    signnames = csv.reader(csvfile, delimiter=',', quotechar='|') #what does quotechar do??\n",
    "    for i, row in enumerate(signnames):\n",
    "        if (i > 0):\n",
    "            print('ClassID ', ': '.join(row))\n",
    "            sign_dict[row[0]] = row[1]"
   ]
  },
  {
   "cell_type": "code",
   "execution_count": null,
   "metadata": {},
   "outputs": [],
   "source": [
    "# plot a random example. Rerun this cell for different examples\n",
    "index = np.random.randint((X_train).shape[0])\n",
    "plt.axis('off')\n",
    "plt.imshow(X_train[index])\n",
    "print('ClassID: {}, SignName: {}'.format(y_train[index], sign_dict[str(y_train[index])]))\n",
    "print('current size: {}, original size: {}'.format((X_train).shape[1:3], (train['sizes'][index][:])))"
   ]
  },
  {
   "cell_type": "code",
   "execution_count": null,
   "metadata": {},
   "outputs": [],
   "source": [
    "# plot the label distribution of the three different y_sets:\n",
    "\n",
    "# precalculate normalized occurrences:\n",
    "y_uniq = np.unique(np.concatenate((y_train, y_valid, y_test)))\n",
    "y_tr_uniq, y_tr_occ = np.unique(y_train, return_counts=True)\n",
    "y_va_uniq, y_va_occ = np.unique(y_valid, return_counts=True)\n",
    "y_te_uniq, y_te_occ = np.unique(y_test,  return_counts=True)\n",
    "assert (np.all(y_tr_uniq == y_va_uniq) & np.all(y_va_uniq == y_te_uniq)), \\\n",
    "            'Unique elements in the three sets are not the same!'\n",
    "    \n",
    "y_tr_occ_norm = y_tr_occ / np.max(y_tr_occ)\n",
    "y_va_occ_norm = y_va_occ / np.max(y_va_occ)\n",
    "y_te_occ_norm = y_te_occ / np.max(y_te_occ)\n",
    "assert (np.sum(y_tr_occ)+np.sum(y_va_occ)+np.sum(y_te_occ)) == (n_train+n_validation+n_test), \\\n",
    "            'something wrong with occurance counts'\n",
    "    \n",
    "# distribution of the three sets, normalized comparison:\n",
    "bar_width = 0.25\n",
    "plt.figure(figsize=(16,3))\n",
    "plt.axes().get_yaxis().set_visible(False)\n",
    "\n",
    "plt.bar(y_uniq, y_tr_occ_norm, width=bar_width)\n",
    "plt.bar(y_uniq + bar_width, y_va_occ_norm, width=bar_width)\n",
    "plt.bar(y_uniq + 2*bar_width, y_va_occ_norm, width=bar_width)\n",
    "\n",
    "plt.title('distribution of the three sets, normalized comparison:')\n",
    "plt.legend(('train', 'valid', 'test'))\n",
    "plt.savefig('data_class_distribution.jpg')\n",
    "plt.show()\n",
    "\n",
    "# separate distributions of the three unnormalized sets:)\n",
    "print('separate distributions of the three unnormalized sets:')\n",
    "fig, subplt = plt.subplots(3, 1, figsize=(16, 9), sharex=True)\n",
    "subplt[0].hist(y_train, len(y_uniq), color='C0'); subplt[0].set_title('training set')\n",
    "subplt[1].hist(y_valid, len(y_uniq), color='C1'); subplt[1].set_title('validation set')\n",
    "subplt[2].hist(y_test,  len(y_uniq), color='C2'); subplt[2].set_title('test set')\n",
    "plt.show()\n"
   ]
  },
  {
   "cell_type": "markdown",
   "metadata": {},
   "source": [
    "----\n",
    "\n",
    "## Step 2: Design and Test a Model Architecture\n",
    "\n",
    "Design and implement a deep learning model that learns to recognize traffic signs. Train and test your model on the [German Traffic Sign Dataset](http://benchmark.ini.rub.de/?section=gtsrb&subsection=dataset).\n",
    "\n",
    "The LeNet-5 implementation shown in the [classroom](https://classroom.udacity.com/nanodegrees/nd013/parts/fbf77062-5703-404e-b60c-95b78b2f3f9e/modules/6df7ae49-c61c-4bb2-a23e-6527e69209ec/lessons/601ae704-1035-4287-8b11-e2c2716217ad/concepts/d4aca031-508f-4e0b-b493-e7b706120f81) at the end of the CNN lesson is a solid starting point. You'll have to change the number of classes and possibly the preprocessing, but aside from that it's plug and play! \n",
    "\n",
    "With the LeNet-5 solution from the lecture, you should expect a validation set accuracy of about 0.89. To meet specifications, the validation set accuracy will need to be at least 0.93. It is possible to get an even higher accuracy, but 0.93 is the minimum for a successful project submission. \n",
    "\n",
    "There are various aspects to consider when thinking about this problem:\n",
    "\n",
    "- Neural network architecture (is the network over or underfitting?)\n",
    "- Play around preprocessing techniques (normalization, rgb to grayscale, etc)\n",
    "- Number of examples per label (some have more than others).\n",
    "- Generate fake data.\n",
    "\n",
    "Here is an example of a [published baseline model on this problem](http://yann.lecun.com/exdb/publis/pdf/sermanet-ijcnn-11.pdf). It's not required to be familiar with the approach used in the paper but, it's good practice to try to read papers like these."
   ]
  },
  {
   "cell_type": "markdown",
   "metadata": {},
   "source": [
    "### Pre-process the Data Set (normalization, grayscale, etc.)"
   ]
  },
  {
   "cell_type": "markdown",
   "metadata": {},
   "source": [
    "Minimally, the image data should be normalized so that the data has mean zero and equal variance. For image data, `(pixel - 128)/ 128` is a quick way to approximately normalize the data and can be used in this project. \n",
    "\n",
    "Other pre-processing steps are optional. You can try different techniques to see if it improves performance. \n",
    "\n",
    "Use the code cell (or multiple code cells, if necessary) to implement the first step of your project."
   ]
  },
  {
   "cell_type": "code",
   "execution_count": null,
   "metadata": {},
   "outputs": [],
   "source": [
    "### Preprocess the data here. It is required to normalize the data. Other preprocessing steps could include \n",
    "### converting to grayscale, etc.\n",
    "### Feel free to use as many code cells as needed.\n",
    "\n",
    "# JUST LIKE WE ARE NOT ABLE TO LOOK AT THE TEST SET RESULTS BEFORE WE ATTAIN OUR FINAL MODEL,\n",
    "# WE ARE NOT ALLOWED TO IMPORT FUTURE INFORMATION BY LOOKING AT THE VALIDATION OR TEST SET FOR NORMALIZING \n",
    "# Hence, normalize based on the training mean and standart deviation.\n",
    "# Since our model expects normalized data input, we DO need to normalize the validation and test as well\n",
    "\n",
    "tr_mu   = np.mean(X_train, axis=0)\n",
    "tr_std  = np.std(X_train, axis=0)\n",
    "\n",
    "X_tr = (X_train - tr_mu) / tr_std\n",
    "X_va = (X_valid - tr_mu) / tr_std\n",
    "X_te = (X_test  - tr_mu) / tr_std\n",
    "\n",
    "# shuffle as in the class LeNet example:\n",
    "X_tr, y_tr = shuffle(X_tr, y_train)\n",
    "X_va, y_va = shuffle(X_va, y_valid)\n",
    "X_te, y_te = shuffle(X_te, y_test)"
   ]
  },
  {
   "cell_type": "code",
   "execution_count": null,
   "metadata": {},
   "outputs": [],
   "source": [
    "# store the preprocessing pipeline required data for future use:\n",
    "np.save('Data/preproc_values.npy', [tr_mu, tr_std])"
   ]
  },
  {
   "cell_type": "markdown",
   "metadata": {},
   "source": [
    "### Quick comment to Udacity"
   ]
  },
  {
   "cell_type": "code",
   "execution_count": null,
   "metadata": {},
   "outputs": [],
   "source": [
    "# (Below) I used (a.o.) image shifting to augment the data size\n",
    "# however, it seems this is already included in the original set:\n",
    "\n",
    "x = 20\n",
    "fig, subplt = plt.subplots(1, x, figsize=(20, 5))\n",
    "for i in range(900, 900+x):\n",
    "    subplt[i-900].imshow(X_train[i]); subplt[i-900].set_title('{}'.format(i)); subplt[i-900].axis('off')\n",
    "plt.show()\n",
    "\n",
    "# This also seems to include pictures of the same sign but from different angles\n",
    "# Probably I should have also checked the database website better\n",
    "# Still, I feel this should have been mentioned somewhere in the above explanation of the data base\n",
    "# so as to prevent double augmentation techniques"
   ]
  },
  {
   "cell_type": "markdown",
   "metadata": {},
   "source": [
    "### Data augmentation\n",
    "According to the above mentioned [paper](http://yann.lecun.com/exdb/publis/pdf/sermanet-ijcnn-11.pdf) by LeCun.\n",
    "\n",
    "There are other and more elaborate methods available as well, like Krizhevsky's [fancy PCA](https://papers.nips.cc/paper/4824-imagenet-classification-with-deep-convolutional-neural-networks.pdf) (color perturbation)."
   ]
  },
  {
   "cell_type": "code",
   "execution_count": null,
   "metadata": {},
   "outputs": [],
   "source": [
    "# NB THIS CODE TAKES FOREVER. DONT RUN THIS CELL. SEE TWO CELL BELOW.\n",
    "# augments the dataset by using 2 perturbing function\n",
    "# two sets are made and pre saved (both including the labels):\n",
    "# \n",
    "# X_augm_excl\n",
    "# This set can be used as addition to the original set, as it doesnt include those samples\n",
    "# It is 4 times as big, but any part of that can be added to the original X_tr set for flexible data sizes\n",
    "#\n",
    "# X_augm_incl\n",
    "# Includes the original set, can be used stand alone\n",
    "# 6 times as big as the original dataset, do not use only a part (we dont want to throw away original (best?) samples)\n",
    "\n",
    "# scaling, one zoom in and one zoom out, according to the scale parameter (MUST: scale[0]<1 & scale[1]>1)\n",
    "X_tr_a, y_tr_a = image_Scale(X_tr, y_tr, scale=[0.9, 1.1])\n",
    "\n",
    "# cropping / shifting, this is not included, since it is already incorporated in the data set, see cell above \n",
    "#X_tr_a, y_tr_a = image_Shift(X_tr1_a, y_tr1_a, pixels=3) \n",
    "\n",
    "# rotation, angles in degrees (making sure there is no 0, NB left is untill, right is till)\n",
    "angles         = np.append(np.random.randint(-15, 0), (np.random.randint(1, 16)))\n",
    "X_tr_a, y_tr_a = image_Rotate(X_tr_a, y_tr_a, angles=angles)\n",
    "\n",
    "# Perspective is a cool feature as well, but somewhat similar to rotation, not incorporated to limit the augmentation size\n",
    "#X_tr, y_tr = image_Perspective(X_tr)\n",
    "\n",
    "# Flipping not possible due to unsymmetric signs \n",
    "#img_flp,   lbl_flp  = image_Flip(img_shp,      lbl_shp)\n",
    "\n",
    "# adding noise, could be useful for overfitting\n",
    "#img_noi,   lbl_noi  = image_Noise(img_cpb,     lbl_cpb,  std)\n",
    "\n",
    "# implementation of fancy PCA / color perturbation (not sure if correct hence not in use)\n",
    "#img_cpb,   lbl_cpb  = image_Color_Perturb(img, lbl, no_c_pert)\n",
    "\n",
    "# randomly shuffle again\n",
    "#X_tr_a, y_tr_a = shuffle(X_tr_a, y_tr_a)\n",
    "\n",
    "print('final training sample size:', X_tr_a.shape, 'label size:', y_tr_a.shape, '(axis 0 should be the same)')"
   ]
  },
  {
   "cell_type": "markdown",
   "metadata": {},
   "source": [
    "### Quick check if augmentation went ok\n",
    "Although very hard to see due to the normalization\n",
    "Should we perhaps perform normalization after perturbation?"
   ]
  },
  {
   "cell_type": "code",
   "execution_count": null,
   "metadata": {},
   "outputs": [],
   "source": [
    "index = np.random.randint((X_tr_a).shape[0])\n",
    "print('index: {}'.format(y_tr_a[index]))\n",
    "\n",
    "fig, subplt = plt.subplots(1,2, figsize=(16,3))\n",
    "subplt[0].imshow(X_tr_a[index])\n",
    "subplt[1].imshow(X_tr_a[index]*tr_std + tr_mu)\n",
    "subplt[0].axis('off'); subplt[0].set_title('normalized augmented sample')\n",
    "subplt[1].axis('off'); subplt[1].set_title('after warping the image back to un-normalization:')\n",
    "plt.show()\n",
    "\n",
    "# The perturbations can be clearly seen, but also can be seen that the images still retain their importent features\n",
    "# what is werid however, is after un-normalizing any augmented image, it becomes rubbish:\n",
    "\n",
    "# This is not the case for of course when un-normalizing 'un-augmented normalized images'\n",
    "# Does this mean something is wrong?\n",
    "# Most likely has to do with datatypes, plotting differently? (then should apply to un-augmented files as well..)"
   ]
  },
  {
   "cell_type": "markdown",
   "metadata": {},
   "source": [
    "### Augmenting the data set might be computationally or time intensive. Thus for future usage save & load the set\n",
    "Take care: saves the variable with the name X_tr_a, but loads an augmented set\n",
    "- with the regular name X_tr if it includes the original set\n",
    "- with the name X_au, if it does not include the original set (needs to be appended to X_tr still)"
   ]
  },
  {
   "cell_type": "code",
   "execution_count": null,
   "metadata": {},
   "outputs": [],
   "source": [
    "save_load = 'load' # 'save' or load'\n",
    "\n",
    "if save_load == 'save':\n",
    "    pickle.dump([X_tr_a.astype('float32'), y_tr_a], open(\"Data/train_augm_excl.p\", \"wb\"))\n",
    "    \n",
    "elif save_load == 'load':\n",
    "    #X_au, y_au = pickle.load(open(\"Data/train_augm_excl.p\", \"rb\"))#[:int(X_tr*2)] # adjust amount of extra samples\n",
    "    X_tr, y_tr = pickle.load(open(\"Data/train_augm_incl.p\", \"rb\"))"
   ]
  },
  {
   "cell_type": "markdown",
   "metadata": {},
   "source": [
    "### Model Architecture"
   ]
  },
  {
   "cell_type": "code",
   "execution_count": null,
   "metadata": {},
   "outputs": [],
   "source": [
    "### Define your architecture here.\n",
    "### Feel free to use as many code cells as needed."
   ]
  },
  {
   "cell_type": "code",
   "execution_count": null,
   "metadata": {},
   "outputs": [],
   "source": [
    "# Initialization\n",
    "from tensorflow.contrib.layers import flatten\n",
    "import tensorflow as tf\n",
    "\n",
    "# Placeholders\n",
    "x_pl     = tf.placeholder(tf.float32, (None, H, W, X_tr[0].shape[-1])) # NOT SURE IF THE SHAPE REFERENCE WORKS LIKE THAT\n",
    "y_pl     = tf.placeholder(tf.int32, (None))\n",
    "y_onehot = tf.one_hot(y_pl, n_classes)\n",
    "drop_pl  = tf.placeholder(dtype=tf.float32, shape=())\n",
    "BN_pl    = tf.placeholder(dtype=tf.bool, shape=()) #BN placeholder to keep track of whether training or validating/testing\n",
    "    \n",
    "# Hyperparameters\n",
    "EPOCHS     = 10\n",
    "BATCH_SIZE = 128\n",
    "DROPOUT    = 0.7    # KEEP PROBABILITY\n",
    "LRN_RATE   = 0.001\n",
    "N_CLASSES  = n_classes\n",
    "BN_DECAY   = 0.999\n",
    "BN_EPS     = 0.001\n"
   ]
  },
  {
   "cell_type": "code",
   "execution_count": null,
   "metadata": {
    "code_folding": [
     2,
     6,
     12,
     19,
     26,
     34,
     38,
     43,
     49
    ]
   },
   "outputs": [],
   "source": [
    "# Helper functions\n",
    "\n",
    "def maxpool(x, k=1):\n",
    "    x = tf.nn.max_pool(x, [1, k, k, 1], [1, k, k, 1], 'VALID')\n",
    "    return x\n",
    "\n",
    "def conv2d_ReLU(x, W, b, strides=1):\n",
    "    x = tf.nn.conv2d(x, W, strides=[1, strides, strides, 1], padding='VALID')\n",
    "    x = tf.nn.bias_add(x, b)\n",
    "    x = tf.nn.relu(x)\n",
    "    return x\n",
    "\n",
    "def conv2d_ReLU_maxp(x, W, b, strides=1, pool=1):\n",
    "    x = tf.nn.conv2d(x, W, strides=[1, strides, strides, 1], padding='VALID')\n",
    "    x = tf.nn.bias_add(x, b)\n",
    "    x = tf.nn.relu(x)\n",
    "    x = maxpool(x, k=pool)\n",
    "    return x\n",
    "\n",
    "def conv2d_BN_ReLU(x, W, b, strides=1, training=True):\n",
    "    x = tf.nn.conv2d(x, W, strides=[1, strides, strides, 1], padding='VALID')\n",
    "    x = tf.nn.bias_add(x, b)\n",
    "    x = tf.contrib.layers.batch_norm(x, is_training=training)\n",
    "    x = tf.nn.relu(x)\n",
    "    return x\n",
    "\n",
    "def conv2d_BN_ReLU_maxp(x, W, b, strides=1, BN_train=True, pool=1):\n",
    "    x = tf.nn.conv2d(x, W, strides=[1, strides, strides, 1], padding='VALID')\n",
    "    x = tf.nn.bias_add(x, b)\n",
    "    x = tf.contrib.layers.batch_norm(x, is_training=BN_train)\n",
    "    x = tf.nn.relu(x)\n",
    "    x = maxpool(x, k=pool)\n",
    "    return x\n",
    "\n",
    "def fc(x, W, b):\n",
    "    x = tf.add(tf.matmul(x, W), b)\n",
    "    return x\n",
    "\n",
    "def fc_ReLU(x, W, b):\n",
    "    x = tf.add(tf.matmul(x, W), b)\n",
    "    x = tf.nn.relu(x)\n",
    "    return x\n",
    "\n",
    "def fc_ReLU_drop(x, W, b, keep_prob=1):\n",
    "    x = tf.add(tf.matmul(x, W), b)\n",
    "    x = tf.nn.relu(x)\n",
    "    x = tf.nn.dropout(x, keep_prob)\n",
    "    return x\n",
    "\n",
    "def fc_BN_ReLU_drop(x, W, b, BN_train, keep_prob=1):\n",
    "    x = tf.add(tf.matmul(x, W), b)\n",
    "    x = tf.contrib.layers.batch_norm(x, is_training=BN_train)\n",
    "    x = tf.nn.relu(x)\n",
    "    x = tf.nn.dropout(x, keep_prob)\n",
    "    return x\n",
    "\n",
    "Xav_init = tf.contrib.layers.xavier_initializer()"
   ]
  },
  {
   "cell_type": "code",
   "execution_count": null,
   "metadata": {
    "code_folding": []
   },
   "outputs": [],
   "source": [
    "# Something is wrong with the namescoping here...\n",
    "\n",
    "# with reuse=True for the variable scope, batch normalization wont initialize, throwing the error:\n",
    "# \"... does not exist, or was not created with tf.get_variable(). Did you mean to set reuse=None in VarScope?\"\n",
    "\n",
    "# with reuse=False however, I get the error on a second run:\n",
    "# \"... already exists, disallowed. Did you mean to set reuse=True in VarScope?\"\n",
    "def Tr_Sign_Net(x, BN_tr, dropout):    \n",
    "    \n",
    "    with tf.variable_scope('Conv1'): #Convolutional + max pool 32x32x3 -> 14x14x6\n",
    "        #W = tf.get_variable(\"W\", shape=[5, 5, 3, 6], initializer=tf.contrib.layers.xavier_initializer())\n",
    "        W = tf.Variable(Xav_init([5, 5, 3, 6]))\n",
    "        b = tf.Variable(tf.zeros([6]))\n",
    "        x = conv2d_BN_ReLU_maxp(x, W, b, strides=1, BN_train=BN_tr, pool=2)\n",
    "\n",
    "    with tf.variable_scope('Conv2'): #Convolutional + max pool 14x14x6 -> 5x5x16\n",
    "        W = tf.Variable(Xav_init([5, 5, 6, 16]))\n",
    "        b = tf.Variable(tf.zeros([16]))\n",
    "        x = conv2d_BN_ReLU_maxp(x, W, b, strides=1, BN_train=BN_tr, pool=2)\n",
    "\n",
    "    x   = flatten(x) # Flatten 5x5x16 -> 400\n",
    "    \n",
    "    with tf.variable_scope('FC3'): # Fully Connected + dropout 400 -> 120\n",
    "        W = tf.Variable(Xav_init([400, 120]))\n",
    "        b = tf.Variable(tf.zeros([120]))\n",
    "        x = fc_BN_ReLU_drop(x, W, b, BN_train=BN_tr, keep_prob=dropout)\n",
    "    \n",
    "    with tf.variable_scope('FC4'): # Fully Connected 120 -> 84\n",
    "        W = tf.Variable(Xav_init([120, 84]))\n",
    "        b = tf.Variable(tf.zeros([84]))\n",
    "        x = fc_BN_ReLU_drop(x, W, b, BN_train=BN_tr, keep_prob=dropout)\n",
    "    \n",
    "    with tf.variable_scope('FC5'): # Fully Connected 84 -> 43\n",
    "        W = tf.Variable(Xav_init([84, 43]))\n",
    "        b = tf.Variable(tf.zeros([43]))\n",
    "        x = fc(x, W, b)\n",
    "    \n",
    "    logits = x\n",
    "    \n",
    "    return logits"
   ]
  },
  {
   "cell_type": "code",
   "execution_count": null,
   "metadata": {
    "code_folding": [
     0
    ]
   },
   "outputs": [],
   "source": [
    "# similar architecture as above, but without variable name scoping. currently not in used\n",
    "def Tr_Sign_Net(x, BN_tr, dropout):\n",
    "    \n",
    "    WC1 = tf.Variable(Xav_init([5, 5, 3, 6]))\n",
    "    bC1 = tf.Variable(tf.zeros([6]))\n",
    "    C1  = conv2d_BN_ReLU_maxp(x, WC1, bC1, strides=1, BN_train=BN_tr, pool=2)\n",
    "    #C1  = conv2d_ReLU_maxp(x, WC1, bC1, strides=1, pool=2)\n",
    "\n",
    "    WC2 = tf.Variable(Xav_init([5, 5, 6, 16]))\n",
    "    bC2 = tf.Variable(tf.zeros([16]))\n",
    "    C2  = conv2d_BN_ReLU_maxp(C1, WC2, bC2, strides=1, BN_train=BN_tr, pool=2)\n",
    "    #C2  = conv2d_ReLU_maxp(C1, WC2, bC2, strides=1, pool=2)\n",
    "\n",
    "    C2   = flatten(C2) # Flatten 5x5x16 -> 400\n",
    "    \n",
    "    WF3 = tf.Variable(Xav_init([400, 120]))\n",
    "    bF3 = tf.Variable(tf.zeros([120]))\n",
    "    F3  = fc_BN_ReLU_drop(C2, WF3, bF3, BN_train=BN_tr, keep_prob=dropout)\n",
    "    #F3  = fc_ReLU_drop(C2, WF3, bF3, keep_prob=dropout)\n",
    "    \n",
    "    WF4 = tf.Variable(Xav_init([120, 84]))\n",
    "    bF4 = tf.Variable(tf.zeros([84]))\n",
    "    F4  = fc_BN_ReLU_drop(F3, WF4, bF4, BN_train=BN_tr, keep_prob=dropout)\n",
    "    #F4  = fc_ReLU_drop(F3, WF4, bF4, keep_prob=dropout)\n",
    "    \n",
    "    WF5 = tf.Variable(Xav_init([84, 43]))\n",
    "    bF5 = tf.Variable(tf.zeros([43]))\n",
    "    F5  = fc(F4, WF5, bF5)\n",
    "    \n",
    "    logits = F5\n",
    "    \n",
    "    return logits"
   ]
  },
  {
   "cell_type": "code",
   "execution_count": null,
   "metadata": {},
   "outputs": [],
   "source": [
    "# Some more tensorflow API\n",
    "\n",
    "logits    = Tr_Sign_Net(x_pl, BN_pl, drop_pl)\n",
    "CE_loss   = tf.reduce_mean(tf.nn.softmax_cross_entropy_with_logits(labels=y_onehot, logits=logits))\n",
    "\n",
    "# because of tf.contrib.layers.batch_norm apparently:\n",
    "upd_ops   = tf.get_collection(tf.GraphKeys.UPDATE_OPS)\n",
    "with tf.control_dependencies(upd_ops):\n",
    "    optimizer = tf.train.AdamOptimizer(learning_rate = LRN_RATE).minimize(CE_loss)\n",
    "\n",
    "cor_pred  = tf.equal(tf.argmax(logits, 1), tf.argmax(y_onehot, 1)) # correct predictions in array\n",
    "accuracy  = tf.reduce_mean(tf.cast(cor_pred, tf.float32))          # correct predictions as accuracy\n",
    "saver     = tf.train.Saver()\n",
    "\n",
    "def evaluate(X_data, y_data):\n",
    "    n        = len(X_data)\n",
    "    full_acc = 0\n",
    "    sess     = tf.get_default_session()\n",
    "    \n",
    "    for offset in range(0, n, BATCH_SIZE):\n",
    "        batch_x, batch_y = X_data[offset:offset+BATCH_SIZE], y_data[offset:offset+BATCH_SIZE]\n",
    "        batch_acc        = sess.run(accuracy, feed_dict={x_pl: batch_x, y_pl: batch_y, BN_pl: False, drop_pl: 1})\n",
    "        full_acc        += (batch_acc * len(batch_x))\n",
    "        \n",
    "    return full_acc / n"
   ]
  },
  {
   "cell_type": "markdown",
   "metadata": {},
   "source": [
    "### Train, Validate and Test the Model"
   ]
  },
  {
   "cell_type": "markdown",
   "metadata": {},
   "source": [
    "A validation set can be used to assess how well the model is performing. A low accuracy on the training and validation\n",
    "sets imply underfitting. A high accuracy on the training set but low accuracy on the validation set implies overfitting."
   ]
  },
  {
   "cell_type": "code",
   "execution_count": null,
   "metadata": {},
   "outputs": [],
   "source": [
    "### Train your model here.\n",
    "### Calculate and report the accuracy on the training and validation set.\n",
    "### Once a final model architecture is selected, \n",
    "### the accuracy on the test set should be calculated and reported as well.\n",
    "### Feel free to use as many code cells as needed.\n",
    "\n",
    "#UPDATE: STORE BEST VALIDATION ACCURACY EPOCH VARIABLES (NOT FINAL ONES)"
   ]
  },
  {
   "cell_type": "code",
   "execution_count": null,
   "metadata": {},
   "outputs": [],
   "source": [
    "# Training, prints validation accuracy\n",
    "\n",
    "print(\"Number of training examples =\", len(X_tr))\n",
    "\n",
    "tic = time.clock()\n",
    "with tf.Session() as sess:\n",
    "    sess.run(tf.global_variables_initializer())\n",
    "    num_examples = len(X_tr)\n",
    "    \n",
    "    print(\"Training...\")\n",
    "    print()\n",
    "    for i in range(EPOCHS):\n",
    "        X_tr, y_tr = shuffle(X_tr, y_tr)\n",
    "        for offset in range(0, num_examples, BATCH_SIZE):\n",
    "            end = offset + BATCH_SIZE\n",
    "            batch_x, batch_y = X_tr[offset:end], y_tr[offset:end]\n",
    "            sess.run(optimizer, feed_dict={x_pl: batch_x, y_pl: batch_y, BN_pl: True, drop_pl: DROPOUT})\n",
    "            \n",
    "        validation_accuracy = evaluate(X_va, y_va)\n",
    "        print(\"EPOCH {} ...\".format(i+1))\n",
    "        print(\"Validation Accuracy = {:.3f}\".format(validation_accuracy))\n",
    "        print()\n",
    "        \n",
    "    saver.save(sess, './Models/sign_classifier')\n",
    "    # save tr_mu & tr_std\n",
    "    print(\"Model saved\")\n",
    "    print(\"Training time: {:.2f} sec\".format(time.clock() - tic))"
   ]
  },
  {
   "cell_type": "code",
   "execution_count": null,
   "metadata": {},
   "outputs": [],
   "source": [
    "# Final validation and test set evaluation\n",
    "# Manualy replacing the saved model with the best validation accuracy (0.960) trained instance (in the 'back_up' folder)\n",
    "\n",
    "with tf.Session() as sess:\n",
    "    saver.restore(sess, tf.train.latest_checkpoint('./Models'))\n",
    "    \n",
    "    tr_acc = evaluate(X_tr, y_tr[:,0])\n",
    "    va_acc = evaluate(X_va, y_va)\n",
    "    te_acc = evaluate(X_te, y_te)\n",
    "    print(\"Training Accuracy = {:.3f}\".format(tr_acc))\n",
    "    print(\"Validation Accuracy = {:.3f}\".format(va_acc))\n",
    "    print(\"Test Accuracy = {:.3f}\".format(te_acc))\n",
    "    "
   ]
  },
  {
   "cell_type": "code",
   "execution_count": null,
   "metadata": {},
   "outputs": [],
   "source": [
    "print(y_tr[:,0].shape)"
   ]
  },
  {
   "cell_type": "markdown",
   "metadata": {},
   "source": [
    "## Step 3: Test a Model on New Images\n",
    "\n",
    "To give yourself more insight into how your model is working, download at least five pictures of German traffic signs from the web and use your model to predict the traffic sign type.\n",
    "\n",
    "You may find `signnames.csv` useful as it contains mappings from the class id (integer) to the actual sign name."
   ]
  },
  {
   "cell_type": "markdown",
   "metadata": {},
   "source": [
    "### Load and Output the Images"
   ]
  },
  {
   "cell_type": "code",
   "execution_count": null,
   "metadata": {},
   "outputs": [],
   "source": [
    "### Load the images and plot them here.\n",
    "### Feel free to use as many code cells as needed."
   ]
  },
  {
   "cell_type": "markdown",
   "metadata": {},
   "source": [
    "### Predict the Sign Type for Each Image"
   ]
  },
  {
   "cell_type": "code",
   "execution_count": null,
   "metadata": {},
   "outputs": [],
   "source": [
    "### Run the predictions here and use the model to output the prediction for each image.\n",
    "### Make sure to pre-process the images with the same pre-processing pipeline used earlier.\n",
    "### Feel free to use as many code cells as needed."
   ]
  },
  {
   "cell_type": "code",
   "execution_count": null,
   "metadata": {},
   "outputs": [],
   "source": [
    "# load & show the images\n",
    "\n",
    "# Except for a stop sign as bench mark for the farsi stop sign below, I've deliberately chosen rather hard examples\n",
    "# Curious as to the performance with these tricky images\n",
    "# I found these images online, which actually means:\n",
    "# there is no guarentee they are indeed new and not already included in the dataset. But let's assume they're not\n",
    "\n",
    "new_imgs = np.load('Data/new_online_images.npy')\n",
    "fig, subplt = plt.subplots(1, 5, figsize=(10, 2), sharex=True)\n",
    "subplt[0].imshow(new_imgs[0]); subplt[0].axis('off')\n",
    "subplt[1].imshow(new_imgs[1]); subplt[1].axis('off')\n",
    "subplt[2].imshow(new_imgs[2]); subplt[2].axis('off'); subplt[2].set_title('5 new german traffic sign images:')\n",
    "subplt[3].imshow(new_imgs[3]); subplt[3].axis('off')\n",
    "subplt[4].imshow(new_imgs[4]); subplt[4].axis('off')\n",
    "plt.show()\n",
    "\n",
    "# for fun, I have included this picture from my holiday in Iran\n",
    "# let's see how well our model generalizes for similar yet different signs\n",
    "farsi_stop = mpimg.imread('Data/Farsi_stop.jpg')\n",
    "plt.axis('off')\n",
    "plt.imshow(farsi_stop)\n",
    "plt.title('Stop sign in farsi language')\n",
    "plt.show()"
   ]
  },
  {
   "cell_type": "code",
   "execution_count": null,
   "metadata": {},
   "outputs": [],
   "source": [
    "# preprocess the images\n",
    "\n",
    "# right size\n",
    "# (new images are already saved in the correct size)\n",
    "farsi = cv.resize(farsi_stop, (W, H))\n",
    "\n",
    "# normalize\n",
    "mu, std = np.load('Data/preproc_values.npy')\n",
    "X_new   = (new_imgs  - tr_mu) / tr_std\n",
    "X_farsi = (farsi  - tr_mu) / tr_std\n"
   ]
  },
  {
   "cell_type": "code",
   "execution_count": null,
   "metadata": {},
   "outputs": [],
   "source": [
    "# test the images\n",
    "\n",
    "with tf.Session() as sess:\n",
    "    saver.restore(sess, tf.train.latest_checkpoint('./Models'))\n",
    "    \n",
    "    new_pred   = sess.run(tf.argmax(logits, 1), feed_dict={x_pl: X_new, BN_pl: False, drop_pl: 1})\n",
    "    farsi_pred = sess.run(tf.argmax(logits, 1), feed_dict={x_pl: [X_farsi], BN_pl: False, drop_pl: 1})\n",
    "\n",
    "    \n",
    "# print the predictions above each image\n",
    "fig, subplt = plt.subplots(1, 6, figsize=(20, 3), sharex=True)\n",
    "for i in range(len(X_new)):\n",
    "    subplt[i].imshow(new_imgs[i]); subplt[i].axis('off')\n",
    "    subplt[i].set_title('prediction: {}'.format(sign_dict[str(new_pred[i])]))\n",
    "subplt[5].imshow(farsi); subplt[5].axis('off')\n",
    "subplt[5].set_title('predicted: {}'.format(sign_dict[str(farsi_pred[0])]))\n",
    "plt.show()\n"
   ]
  },
  {
   "cell_type": "markdown",
   "metadata": {},
   "source": [
    "### Analyze Performance"
   ]
  },
  {
   "cell_type": "code",
   "execution_count": null,
   "metadata": {},
   "outputs": [],
   "source": [
    "### Calculate the accuracy for these 5 new images. \n",
    "### For example, if the model predicted 1 out of 5 signs correctly, it's 20% accurate on these new images.\n",
    "\n",
    "\n",
    "# As can be seen from above, not counting the farsi image,\n",
    "# only the first and third new images are classified correctly, resulting in a 40% accuracy.\n",
    "# This is fairly low but obviously due to the difficulty of the images\n",
    "# (for example considering the fifth image, the circle is cut off above with a red line.\n",
    "# It is not weird for the model to interpret the resulting shape as an upside down triangle: Yield)\n",
    "\n",
    "# Interestingly enough, the stop sign in farsi language is classified correctly.\n",
    "# perhaps the shape of a stop sign is more important than what is written on it\n",
    "# or perhaps the model cannot 'read' actual languages, but only detect them\n",
    "# hence it wouldn't make a difference for the model whether some written word is english or farsi"
   ]
  },
  {
   "cell_type": "markdown",
   "metadata": {},
   "source": [
    "### Output Top 5 Softmax Probabilities For Each Image Found on the Web"
   ]
  },
  {
   "cell_type": "markdown",
   "metadata": {},
   "source": [
    "For each of the new images, print out the model's softmax probabilities to show the **certainty** of the model's predictions (limit the output to the top 5 probabilities for each image). [`tf.nn.top_k`](https://www.tensorflow.org/versions/r0.12/api_docs/python/nn.html#top_k) could prove helpful here. \n",
    "\n",
    "The example below demonstrates how tf.nn.top_k can be used to find the top k predictions for each image.\n",
    "\n",
    "`tf.nn.top_k` will return the values and indices (class ids) of the top k predictions. So if k=3, for each sign, it'll return the 3 largest probabilities (out of a possible 43) and the correspoding class ids.\n",
    "\n",
    "Take this numpy array as an example. The values in the array represent predictions. The array contains softmax probabilities for five candidate images with six possible classes. `tf.nn.top_k` is used to choose the three classes with the highest probability:\n",
    "\n",
    "```\n",
    "# (5, 6) array\n",
    "a = np.array([[ 0.24879643,  0.07032244,  0.12641572,  0.34763842,  0.07893497,\n",
    "         0.12789202],\n",
    "       [ 0.28086119,  0.27569815,  0.08594638,  0.0178669 ,  0.18063401,\n",
    "         0.15899337],\n",
    "       [ 0.26076848,  0.23664738,  0.08020603,  0.07001922,  0.1134371 ,\n",
    "         0.23892179],\n",
    "       [ 0.11943333,  0.29198961,  0.02605103,  0.26234032,  0.1351348 ,\n",
    "         0.16505091],\n",
    "       [ 0.09561176,  0.34396535,  0.0643941 ,  0.16240774,  0.24206137,\n",
    "         0.09155967]])\n",
    "```\n",
    "\n",
    "Running it through `sess.run(tf.nn.top_k(tf.constant(a), k=3))` produces:\n",
    "\n",
    "```\n",
    "TopKV2(values=array([[ 0.34763842,  0.24879643,  0.12789202],\n",
    "       [ 0.28086119,  0.27569815,  0.18063401],\n",
    "       [ 0.26076848,  0.23892179,  0.23664738],\n",
    "       [ 0.29198961,  0.26234032,  0.16505091],\n",
    "       [ 0.34396535,  0.24206137,  0.16240774]]), indices=array([[3, 0, 5],\n",
    "       [0, 1, 4],\n",
    "       [0, 5, 1],\n",
    "       [1, 3, 5],\n",
    "       [1, 4, 3]], dtype=int32))\n",
    "```\n",
    "\n",
    "Looking just at the first row we get `[ 0.34763842,  0.24879643,  0.12789202]`, you can confirm these are the 3 largest probabilities in `a`. You'll also notice `[3, 0, 5]` are the corresponding indices."
   ]
  },
  {
   "cell_type": "code",
   "execution_count": null,
   "metadata": {},
   "outputs": [],
   "source": [
    "### Print out the top five softmax probabilities for the predictions on the German traffic sign images found on the web. \n",
    "### Feel free to use as many code cells as needed.\n",
    "\n",
    "k = 5\n",
    "\n",
    "with tf.Session() as sess:\n",
    "    saver.restore(sess, tf.train.latest_checkpoint('./Models'))\n",
    "    \n",
    "    new_pred5  = sess.run(tf.nn.top_k(tf.nn.softmax(logits), k=k), feed_dict={x_pl: [X_farsi], BN_pl: False, drop_pl: 1})\n",
    "    # farsi_pred = sess.run(tf.argmax(logits, 1), feed_dict={x_pl: [X_farsi], BN_pl: False, drop_pl: 1})\n",
    "\n",
    "for i in range(len(X_new)):\n",
    "    print('\\nImage {} prediction:'.format(i+1))\n",
    "    for j in range(k):\n",
    "        print('With {:6.2f}% certainty: \"{}\"'.format(new_pred5[0][i][j]*100, sign_dict[str(new_pred5[1][i][j])]))"
   ]
  },
  {
   "cell_type": "markdown",
   "metadata": {},
   "source": [
    "### Project Writeup\n",
    "\n",
    "Once you have completed the code implementation, document your results in a project writeup using this [template](https://github.com/udacity/CarND-Traffic-Sign-Classifier-Project/blob/master/writeup_template.md) as a guide. The writeup can be in a markdown or pdf file. "
   ]
  },
  {
   "cell_type": "markdown",
   "metadata": {},
   "source": [
    "> **Note**: Once you have completed all of the code implementations and successfully answered each question above, you may finalize your work by exporting the iPython Notebook as an HTML document. You can do this by using the menu above and navigating to  \\n\",\n",
    "    \"**File -> Download as -> HTML (.html)**. Include the finished document along with this notebook as your submission."
   ]
  },
  {
   "cell_type": "markdown",
   "metadata": {},
   "source": [
    "---\n",
    "\n",
    "## Step 4 (Optional): Visualize the Neural Network's State with Test Images\n",
    "\n",
    " This Section is not required to complete but acts as an additional excersise for understaning the output of a neural network's weights. While neural networks can be a great learning device they are often referred to as a black box. We can understand what the weights of a neural network look like better by plotting their feature maps. After successfully training your neural network you can see what it's feature maps look like by plotting the output of the network's weight layers in response to a test stimuli image. From these plotted feature maps, it's possible to see what characteristics of an image the network finds interesting. For a sign, maybe the inner network feature maps react with high activation to the sign's boundary outline or to the contrast in the sign's painted symbol.\n",
    "\n",
    " Provided for you below is the function code that allows you to get the visualization output of any tensorflow weight layer you want. The inputs to the function should be a stimuli image, one used during training or a new one you provided, and then the tensorflow variable name that represents the layer's state during the training process, for instance if you wanted to see what the [LeNet lab's](https://classroom.udacity.com/nanodegrees/nd013/parts/fbf77062-5703-404e-b60c-95b78b2f3f9e/modules/6df7ae49-c61c-4bb2-a23e-6527e69209ec/lessons/601ae704-1035-4287-8b11-e2c2716217ad/concepts/d4aca031-508f-4e0b-b493-e7b706120f81) feature maps looked like for it's second convolutional layer you could enter conv2 as the tf_activation variable.\n",
    "\n",
    "For an example of what feature map outputs look like, check out NVIDIA's results in their paper [End-to-End Deep Learning for Self-Driving Cars](https://devblogs.nvidia.com/parallelforall/deep-learning-self-driving-cars/) in the section Visualization of internal CNN State. NVIDIA was able to show that their network's inner weights had high activations to road boundary lines by comparing feature maps from an image with a clear path to one without. Try experimenting with a similar test to show that your trained network's weights are looking for interesting features, whether it's looking at differences in feature maps from images with or without a sign, or even what feature maps look like in a trained network vs a completely untrained one on the same sign image.\n",
    "\n",
    "<figure>\n",
    " <img src=\"visualize_cnn.png\" width=\"380\" alt=\"Combined Image\" />\n",
    " <figcaption>\n",
    " <p></p> \n",
    " <p style=\"text-align: center;\"> Your output should look something like this (above)</p> \n",
    " </figcaption>\n",
    "</figure>\n",
    " <p></p> \n"
   ]
  },
  {
   "cell_type": "code",
   "execution_count": null,
   "metadata": {},
   "outputs": [],
   "source": [
    "### Visualize your network's feature maps here.\n",
    "### Feel free to use as many code cells as needed.\n",
    "\n",
    "# image_input: the test image being fed into the network to produce the feature maps\n",
    "# tf_activation: should be a tf variable name used during your training procedure that represents the calculated state of a specific weight layer\n",
    "# activation_min/max: can be used to view the activation contrast in more detail, by default matplot sets min and max to the actual min and max values of the output\n",
    "# plt_num: used to plot out multiple different weight feature map sets on the same block, just extend the plt number for each new feature map entry\n",
    "\n",
    "def outputFeatureMap(image_input, tf_activation, activation_min=-1, activation_max=-1 ,plt_num=1):\n",
    "    # Here make sure to preprocess your image_input in a way your network expects\n",
    "    # with size, normalization, ect if needed\n",
    "    # image_input =\n",
    "    # Note: x should be the same name as your network's tensorflow data placeholder variable\n",
    "    # If you get an error tf_activation is not defined it may be having trouble accessing the variable from inside a function\n",
    "    activation = tf_activation.eval(session=sess, feed_dict={x_pl : image_input, BN_pl: False, drop_pl: 1})\n",
    "    featuremaps = activation.shape[3]\n",
    "    plt.figure(plt_num, figsize=(15,15))\n",
    "    for featuremap in range(featuremaps):\n",
    "        plt.subplot(6,8, featuremap+1) # sets the number of feature maps to show on each row and column\n",
    "        plt.title('FeatureMap ' + str(featuremap)) # displays the feature map number\n",
    "        if activation_min != -1 & activation_max != -1:\n",
    "            plt.imshow(activation[0,:,:, featuremap], interpolation=\"nearest\", vmin =activation_min, vmax=activation_max, cmap=\"gray\")\n",
    "        elif activation_max != -1:\n",
    "            plt.imshow(activation[0,:,:, featuremap], interpolation=\"nearest\", vmax=activation_max, cmap=\"gray\")\n",
    "        elif activation_min !=-1:\n",
    "            plt.imshow(activation[0,:,:, featuremap], interpolation=\"nearest\", vmin=activation_min, cmap=\"gray\")\n",
    "        else:\n",
    "            plt.imshow(activation[0,:,:, featuremap], interpolation=\"nearest\", cmap=\"gray\")"
   ]
  },
  {
   "cell_type": "code",
   "execution_count": null,
   "metadata": {},
   "outputs": [],
   "source": [
    "image_input    = [farsi]\n",
    "tf_activation  = [var for var in tf.global_variables() if var.op.name==\"Conv2/Variable_1\"][0]\n",
    "print(tf_activation)\n",
    "#tf_activation  = tf.get_default_graph().get_tensor_by_name(\"Conv2/W\")\n",
    "activation_min = -1\n",
    "activation_max = -1\n",
    "plt_num        =  1\n",
    "\n",
    "outputFeatureMap(image_input, tf_activation, activation_min, activation_max, plt_num)"
   ]
  }
 ],
 "metadata": {
  "anaconda-cloud": {},
  "kernelspec": {
   "display_name": "Python 3",
   "language": "python",
   "name": "python3"
  },
  "language_info": {
   "codemirror_mode": {
    "name": "ipython",
    "version": 3
   },
   "file_extension": ".py",
   "mimetype": "text/x-python",
   "name": "python",
   "nbconvert_exporter": "python",
   "pygments_lexer": "ipython3",
   "version": "3.5.2"
  },
  "widgets": {
   "state": {},
   "version": "1.1.2"
  }
 },
 "nbformat": 4,
 "nbformat_minor": 1
}
