{
 "cells": [
  {
   "cell_type": "markdown",
   "metadata": {},
   "source": [
    "### imports"
   ]
  },
  {
   "cell_type": "code",
   "execution_count": 1,
   "metadata": {},
   "outputs": [
    {
     "name": "stderr",
     "output_type": "stream",
     "text": [
      "Using TensorFlow backend.\n"
     ]
    }
   ],
   "source": [
    "import csv\n",
    "import cv2\n",
    "import time\n",
    "import numpy as np\n",
    "\n",
    "from matplotlib import pyplot as plt\n",
    "%matplotlib inline\n",
    "from sklearn.model_selection import train_test_split\n",
    "from sklearn.utils import shuffle\n",
    "\n",
    "from keras import optimizers\n",
    "from keras.models import Sequential, load_model\n",
    "from keras.callbacks import ModelCheckpoint\n",
    "from keras.layers import Lambda, Cropping2D\n",
    "from keras.layers.core import Dense, Activation, Flatten, Dropout, Reshape\n",
    "from keras.layers.convolutional import Convolution2D\n",
    "from keras.layers.pooling import MaxPooling2D, AveragePooling2D\n",
    "from keras.layers.normalization import BatchNormalization"
   ]
  },
  {
   "cell_type": "markdown",
   "metadata": {},
   "source": [
    "### Load in the data"
   ]
  },
  {
   "cell_type": "code",
   "execution_count": 2,
   "metadata": {},
   "outputs": [],
   "source": [
    "# Read image paths and steering angles from csv file\n",
    "samples = []     # list of samples, each sample is a list with [ path string, steer angle float, flip augm bool]\n",
    "STEER_COR  = 0.2 # correction factor for left and right images\n",
    "\n",
    "with open('data_3/driving_log.csv') as csvfile:\n",
    "    reader = csv.reader(csvfile)\n",
    "    for row in reader:\n",
    "        samples.append(['./data_3/IMG/' + row[1].split('/')[-1], float(row[3]) + STEER_COR, False])\n",
    "        samples.append(['./data_3/IMG/' + row[1].split('/')[-1], float(row[3]) + STEER_COR, True])\n",
    "        samples.append(['./data_3/IMG/' + row[0].split('/')[-1], float(row[3])            , False])\n",
    "        samples.append(['./data_3/IMG/' + row[0].split('/')[-1], float(row[3])            , True])\n",
    "        samples.append(['./data_3/IMG/' + row[2].split('/')[-1], float(row[3]) - STEER_COR, False])\n",
    "        samples.append(['./data_3/IMG/' + row[2].split('/')[-1], float(row[3]) - STEER_COR, True])\n",
    "\n",
    "tr_samples, va_samples = train_test_split(shuffle(samples), test_size=0.2)\n",
    "\n",
    "\n",
    "# Get dataset sizes\n",
    "N_tr = len(tr_samples)\n",
    "N_va = len(va_samples)\n",
    "H, W, C = cv2.imread(samples[0][0]).shape\n",
    "\n",
    "# Define generator to unburden memory\n",
    "def batch_generator(samples, batch_size=128):\n",
    "\n",
    "    while 1 == True:\n",
    "        for offset in range(0, len(samples), batch_size):\n",
    "            batch_samples = samples[offset : offset+batch_size]\n",
    "\n",
    "            X_train = np.empty(shape=[0, H, W, C])\n",
    "            y_train = np.empty(shape=[0])\n",
    "\n",
    "            for batch_sample in batch_samples:\n",
    "\n",
    "                if batch_sample[2]:  # augment by flipping\n",
    "                    b, g, r = cv2.split(cv2.imread(batch_sample[0]))\n",
    "                    img = np.array(cv2.merge([r, g, b])).reshape([1, H, W, C])\n",
    "                    X_train = np.append(X_train, img[:, :, ::-1, :], axis=0)\n",
    "                    y_train = np.append(y_train, -1. * np.array(batch_sample[1]))\n",
    "                else:  # original\n",
    "                    b, g, r = cv2.split(cv2.imread(batch_sample[0]))\n",
    "                    X_train = np.append(X_train, np.array(cv2.merge([r, g, b])).reshape([1, H, W, C]), axis=0)\n",
    "                    y_train = np.append(y_train, np.array(batch_sample[1]))\n",
    "\n",
    "            yield shuffle(X_train, y_train)"
   ]
  },
  {
   "cell_type": "markdown",
   "metadata": {},
   "source": [
    "### Augment the data\n",
    "depreciated, moved inside generator"
   ]
  },
  {
   "cell_type": "markdown",
   "metadata": {},
   "source": [
    "### Build the model"
   ]
  },
  {
   "cell_type": "code",
   "execution_count": 7,
   "metadata": {},
   "outputs": [],
   "source": [
    "# Hyperparameters\n",
    "EPOCHS     = 10\n",
    "BATCH_SIZE = 256\n",
    "DROPOUT    = 0.7  # KEEP PROBABILITY\n",
    "LRN_RATE   = 0.001\n",
    "N_CLASSES  = 10\n",
    "BN_DECAY   = 0.999\n",
    "BN_EPS     = 0.001\n",
    "STEER_COR  = 0.2 # defined earlier\n",
    "TOP_CROP   = 50\n",
    "BOT_CROP   = 22"
   ]
  },
  {
   "cell_type": "code",
   "execution_count": 4,
   "metadata": {},
   "outputs": [],
   "source": [
    "# Generators\n",
    "tr_gen = batch_generator(tr_samples, batch_size=BATCH_SIZE)\n",
    "va_gen = batch_generator(va_samples, batch_size=BATCH_SIZE)"
   ]
  },
  {
   "cell_type": "code",
   "execution_count": 5,
   "metadata": {},
   "outputs": [
    {
     "name": "stdout",
     "output_type": "stream",
     "text": [
      "Model build\n"
     ]
    }
   ],
   "source": [
    "# model\n",
    "model = Sequential()\n",
    "model.add(Cropping2D(cropping=((TOP_CROP, BOT_CROP), (0, 0)), input_shape=(H, W, C)))\n",
    "model.add(AveragePooling2D())\n",
    "model.add(Lambda(lambda x: x / 255 - 0.5)) # normalize\n",
    "# Conv1\n",
    "model.add(Convolution2D(32, 3, 3, init='glorot_uniform'))\n",
    "model.add(BatchNormalization())\n",
    "model.add(Activation('relu'))\n",
    "model.add(MaxPooling2D((2, 2)))\n",
    "# Conv2\n",
    "model.add(Convolution2D(64, 3, 3, init='glorot_uniform'))\n",
    "model.add(BatchNormalization())\n",
    "model.add(Activation('relu'))\n",
    "model.add(MaxPooling2D((2, 2)))\n",
    "model.add(Dropout(p=0.8))\n",
    "# Conv3\n",
    "model.add(Convolution2D(128, 3, 3, init='glorot_uniform'))\n",
    "model.add(BatchNormalization())\n",
    "model.add(Activation('relu'))\n",
    "model.add(MaxPooling2D((2, 2)))\n",
    "model.add(Dropout(p=0.7))\n",
    "# Conv4\n",
    "model.add(Convolution2D(256, 3, 3, init='glorot_uniform'))\n",
    "model.add(BatchNormalization())\n",
    "model.add(Activation('relu'))\n",
    "model.add(Dropout(p=0.6))\n",
    "# FC5\n",
    "model.add(Flatten())\n",
    "model.add(Dense(256, init='glorot_uniform'))\n",
    "model.add(BatchNormalization())\n",
    "model.add(Activation('relu'))\n",
    "model.add(Dropout(p=0.5))\n",
    "# FC6\n",
    "model.add(Dense(128, init='glorot_uniform'))\n",
    "model.add(BatchNormalization())\n",
    "model.add(Activation('relu'))\n",
    "model.add(Dropout(p=0.5))\n",
    "# FC7\n",
    "model.add(Dense(1, init='glorot_uniform'))\n",
    "\n",
    "# model.summary()\n",
    "print('Model build')"
   ]
  },
  {
   "cell_type": "markdown",
   "metadata": {},
   "source": [
    "### Reload the model (in case)"
   ]
  },
  {
   "cell_type": "code",
   "execution_count": 9,
   "metadata": {},
   "outputs": [],
   "source": [
    "model = load_model('second_trained_model.h5')\n",
    "#model.summary()\n",
    "\n",
    "# refine hyperparameters for retraining:\n",
    "EPOCHS     = 5\n",
    "LRN_RATE   = 0.001"
   ]
  },
  {
   "cell_type": "markdown",
   "metadata": {},
   "source": [
    "### Train the model"
   ]
  },
  {
   "cell_type": "code",
   "execution_count": 10,
   "metadata": {},
   "outputs": [
    {
     "name": "stdout",
     "output_type": "stream",
     "text": [
      "Epoch 1/5\n",
      "4433/4689 [===========================>..] - ETA: 43s - loss: 0.1038Epoch 00000: val_loss improved from inf to 0.09661, saving model to weights.hdf5\n",
      "4689/4689 [==============================] - 1070s - loss: 0.1037 - val_loss: 0.0966\n",
      "Epoch 2/5\n",
      "4433/4689 [===========================>..] - ETA: 31s - loss: 0.0812Epoch 00001: val_loss did not improve\n",
      "4689/4689 [==============================] - 842s - loss: 0.0801 - val_loss: 0.1551\n",
      "Epoch 3/5\n",
      "4433/4689 [===========================>..] - ETA: 23s - loss: 0.0531Epoch 00002: val_loss did not improve\n",
      "4689/4689 [==============================] - 608s - loss: 0.0528 - val_loss: 0.1196\n",
      "Epoch 4/5\n",
      "4433/4689 [===========================>..] - ETA: 23s - loss: 0.0401Epoch 00003: val_loss did not improve\n",
      "4689/4689 [==============================] - 604s - loss: 0.0397 - val_loss: 0.1348\n",
      "Epoch 5/5\n",
      "4433/4689 [===========================>..] - ETA: 23s - loss: 0.0320Epoch 00004: val_loss did not improve\n",
      "4689/4689 [==============================] - 589s - loss: 0.0321 - val_loss: 0.1206\n",
      "elapsed time: 3725 seconds\n"
     ]
    }
   ],
   "source": [
    "tic = time.time()\n",
    "adam = optimizers.Adam(lr=LRN_RATE)\n",
    "model.compile(loss='mse', optimizer=adam)\n",
    "\n",
    "# save best (validation loss?) trained epoch instance\n",
    "chckpnt = ModelCheckpoint(filepath='weights.hdf5', verbose=1, save_best_only=True)\n",
    "# fit the network\n",
    "history = model.fit_generator(tr_gen, samples_per_epoch=N_tr, nb_epoch=EPOCHS,\n",
    "                              validation_data=va_gen, nb_val_samples=N_va, callbacks=[chckpnt])\n",
    "# load best trained epoch instance\n",
    "model.load_weights('weights.hdf5')\n",
    "\n",
    "print('elapsed time: {:.0f} seconds'.format(time.time() - tic))\n",
    "# after second training round val_loss: 0.0294"
   ]
  },
  {
   "cell_type": "markdown",
   "metadata": {},
   "source": [
    "### Training stats"
   ]
  },
  {
   "cell_type": "code",
   "execution_count": 11,
   "metadata": {},
   "outputs": [
    {
     "data": {
      "image/png": "[encoded data removed]",
      "text/plain": [
       "<matplotlib.figure.Figure at 0x11f577588>"
      ]
     },
     "metadata": {},
     "output_type": "display_data"
    }
   ],
   "source": [
    "# from Udacity:\n",
    "# plot the training and validation loss for each epoch\n",
    "plt.plot(history.history['loss'])\n",
    "plt.plot(history.history['val_loss'])\n",
    "plt.title('model mean squared error loss')\n",
    "plt.ylabel('mean squared error loss')\n",
    "plt.xlabel('epoch')\n",
    "plt.legend(['training set', 'validation set'], loc='upper right')\n",
    "plt.savefig('training_curve_third_5_Epochs.jpg')\n",
    "plt.show()"
   ]
  },
  {
   "cell_type": "markdown",
   "metadata": {},
   "source": [
    "### Test the model"
   ]
  },
  {
   "cell_type": "code",
   "execution_count": null,
   "metadata": {},
   "outputs": [],
   "source": [
    "pred = model.predict(X_train[:1], verbose=1)\n",
    "print(pred)"
   ]
  },
  {
   "cell_type": "markdown",
   "metadata": {},
   "source": [
    "### Save the model"
   ]
  },
  {
   "cell_type": "code",
   "execution_count": 17,
   "metadata": {},
   "outputs": [],
   "source": []
  },
  {
   "cell_type": "code",
   "execution_count": 12,
   "metadata": {},
   "outputs": [],
   "source": [
    "model.save('third_new_set_trained_model.h5')"
   ]
  },
  {
   "cell_type": "markdown",
   "metadata": {},
   "source": [
    "### Retrain"
   ]
  },
  {
   "cell_type": "code",
   "execution_count": null,
   "metadata": {},
   "outputs": [],
   "source": [
    "##Partly train model\n",
    "#model.fit(first_training, first_classes, batch_size=32, nb_epoch=20)\n",
    "#\n",
    "##Save partly trained model\n",
    "#model.save('partly_trained.h5')\n",
    "#\n",
    "##Load partly trained model\n",
    "#from keras.models import load_model\n",
    "#model = load_model('partly_trained.h5')\n",
    "#\n",
    "##Continue training\n",
    "#model.fit(second_training, second_classes, batch_size=32, nb_epoch=20)"
   ]
  }
 ],
 "metadata": {
  "kernelspec": {
   "display_name": "Python 3",
   "language": "python",
   "name": "python3"
  },
  "language_info": {
   "codemirror_mode": {
    "name": "ipython",
    "version": 3
   },
   "file_extension": ".py",
   "mimetype": "text/x-python",
   "name": "python",
   "nbconvert_exporter": "python",
   "pygments_lexer": "ipython3",
   "version": "3.5.2"
  },
  "widgets": {
   "state": {},
   "version": "1.1.2"
  }
 },
 "nbformat": 4,
 "nbformat_minor": 2
}
